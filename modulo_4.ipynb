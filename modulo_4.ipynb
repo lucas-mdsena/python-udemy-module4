{
  "cells": [
    {
      "cell_type": "markdown",
      "metadata": {
        "id": "m68VIDuiz0Kt"
      },
      "source": [
        "# **Importação dos dados**"
      ]
    },
    {
      "cell_type": "code",
      "execution_count": 70,
      "metadata": {
        "colab": {
          "base_uri": "https://localhost:8080/"
        },
        "id": "eRU3RgGRz0Kw",
        "outputId": "629792c5-a4bc-4c32-b45b-30363a811b16"
      },
      "outputs": [],
      "source": [
        "import pandas as pd\n",
        "df = pd.read_csv('Dados/covid.csv', sep=',')"
      ]
    },
    {
      "cell_type": "markdown",
      "metadata": {
        "id": "pcJOtsZjz0Kx"
      },
      "source": [
        "# **Tratamento de dados**"
      ]
    },
    {
      "cell_type": "markdown",
      "metadata": {
        "id": "hLJcd4m-z0Ky"
      },
      "source": [
        "**Nesta parte, foi realizado:**\n",
        "- Tradução das colunas e adaptação para nomes mais intuitivos.\n",
        "- Renomeação de categorias e substituição das classes numéricas por textuais. Como será feita apenas uma análise semântica, podemos fazer essa substituiçãoe facilitar a visualização. Os valores que representam missing values também serão preenchidos com string, pois vamos verificar o impacto sobre a análise.\n",
        "- Correção de tipagem de dados.\n",
        "- Criação de uma coluna ID."
      ]
    },
    {
      "cell_type": "code",
      "execution_count": 71,
      "metadata": {
        "colab": {
          "base_uri": "https://localhost:8080/",
          "height": 1000
        },
        "id": "l75INgLNz0Ky",
        "outputId": "e0183115-4b67-4e46-e3d1-34a4a369a458"
      },
      "outputs": [
        {
          "data": {
            "text/html": [
              "<div>\n",
              "<style scoped>\n",
              "    .dataframe tbody tr th:only-of-type {\n",
              "        vertical-align: middle;\n",
              "    }\n",
              "\n",
              "    .dataframe tbody tr th {\n",
              "        vertical-align: top;\n",
              "    }\n",
              "\n",
              "    .dataframe thead th {\n",
              "        text-align: right;\n",
              "    }\n",
              "</style>\n",
              "<table border=\"1\" class=\"dataframe\">\n",
              "  <thead>\n",
              "    <tr style=\"text-align: right;\">\n",
              "      <th></th>\n",
              "      <th>usmr</th>\n",
              "      <th>unidade_medica</th>\n",
              "      <th>sexo</th>\n",
              "      <th>tipo_paciente</th>\n",
              "      <th>data_obito</th>\n",
              "      <th>intubado</th>\n",
              "      <th>pneumonia</th>\n",
              "      <th>idade</th>\n",
              "      <th>gravidez</th>\n",
              "      <th>diabetes</th>\n",
              "      <th>...</th>\n",
              "      <th>asma</th>\n",
              "      <th>imunossuprimido</th>\n",
              "      <th>hipertensao</th>\n",
              "      <th>outras_doencas</th>\n",
              "      <th>doenca_cardiovascular</th>\n",
              "      <th>obesidade</th>\n",
              "      <th>doenca_renal_cronica</th>\n",
              "      <th>fumante</th>\n",
              "      <th>teste_covid</th>\n",
              "      <th>uti</th>\n",
              "    </tr>\n",
              "  </thead>\n",
              "  <tbody>\n",
              "    <tr>\n",
              "      <th>0</th>\n",
              "      <td>2</td>\n",
              "      <td>1</td>\n",
              "      <td>1</td>\n",
              "      <td>1</td>\n",
              "      <td>03/05/2020</td>\n",
              "      <td>97</td>\n",
              "      <td>1</td>\n",
              "      <td>65</td>\n",
              "      <td>2</td>\n",
              "      <td>2</td>\n",
              "      <td>...</td>\n",
              "      <td>2</td>\n",
              "      <td>2</td>\n",
              "      <td>1</td>\n",
              "      <td>2</td>\n",
              "      <td>2</td>\n",
              "      <td>2</td>\n",
              "      <td>2</td>\n",
              "      <td>2</td>\n",
              "      <td>3</td>\n",
              "      <td>97</td>\n",
              "    </tr>\n",
              "    <tr>\n",
              "      <th>1</th>\n",
              "      <td>2</td>\n",
              "      <td>1</td>\n",
              "      <td>2</td>\n",
              "      <td>1</td>\n",
              "      <td>03/06/2020</td>\n",
              "      <td>97</td>\n",
              "      <td>1</td>\n",
              "      <td>72</td>\n",
              "      <td>97</td>\n",
              "      <td>2</td>\n",
              "      <td>...</td>\n",
              "      <td>2</td>\n",
              "      <td>2</td>\n",
              "      <td>1</td>\n",
              "      <td>2</td>\n",
              "      <td>2</td>\n",
              "      <td>1</td>\n",
              "      <td>1</td>\n",
              "      <td>2</td>\n",
              "      <td>5</td>\n",
              "      <td>97</td>\n",
              "    </tr>\n",
              "    <tr>\n",
              "      <th>2</th>\n",
              "      <td>2</td>\n",
              "      <td>1</td>\n",
              "      <td>2</td>\n",
              "      <td>2</td>\n",
              "      <td>09/06/2020</td>\n",
              "      <td>1</td>\n",
              "      <td>2</td>\n",
              "      <td>55</td>\n",
              "      <td>97</td>\n",
              "      <td>1</td>\n",
              "      <td>...</td>\n",
              "      <td>2</td>\n",
              "      <td>2</td>\n",
              "      <td>2</td>\n",
              "      <td>2</td>\n",
              "      <td>2</td>\n",
              "      <td>2</td>\n",
              "      <td>2</td>\n",
              "      <td>2</td>\n",
              "      <td>3</td>\n",
              "      <td>2</td>\n",
              "    </tr>\n",
              "    <tr>\n",
              "      <th>3</th>\n",
              "      <td>2</td>\n",
              "      <td>1</td>\n",
              "      <td>1</td>\n",
              "      <td>1</td>\n",
              "      <td>12/06/2020</td>\n",
              "      <td>97</td>\n",
              "      <td>2</td>\n",
              "      <td>53</td>\n",
              "      <td>2</td>\n",
              "      <td>2</td>\n",
              "      <td>...</td>\n",
              "      <td>2</td>\n",
              "      <td>2</td>\n",
              "      <td>2</td>\n",
              "      <td>2</td>\n",
              "      <td>2</td>\n",
              "      <td>2</td>\n",
              "      <td>2</td>\n",
              "      <td>2</td>\n",
              "      <td>7</td>\n",
              "      <td>97</td>\n",
              "    </tr>\n",
              "    <tr>\n",
              "      <th>4</th>\n",
              "      <td>2</td>\n",
              "      <td>1</td>\n",
              "      <td>2</td>\n",
              "      <td>1</td>\n",
              "      <td>21/06/2020</td>\n",
              "      <td>97</td>\n",
              "      <td>2</td>\n",
              "      <td>68</td>\n",
              "      <td>97</td>\n",
              "      <td>1</td>\n",
              "      <td>...</td>\n",
              "      <td>2</td>\n",
              "      <td>2</td>\n",
              "      <td>1</td>\n",
              "      <td>2</td>\n",
              "      <td>2</td>\n",
              "      <td>2</td>\n",
              "      <td>2</td>\n",
              "      <td>2</td>\n",
              "      <td>3</td>\n",
              "      <td>97</td>\n",
              "    </tr>\n",
              "  </tbody>\n",
              "</table>\n",
              "<p>5 rows × 21 columns</p>\n",
              "</div>"
            ],
            "text/plain": [
              "   usmr  unidade_medica  sexo  tipo_paciente  data_obito  intubado  pneumonia  \\\n",
              "0     2               1     1              1  03/05/2020        97          1   \n",
              "1     2               1     2              1  03/06/2020        97          1   \n",
              "2     2               1     2              2  09/06/2020         1          2   \n",
              "3     2               1     1              1  12/06/2020        97          2   \n",
              "4     2               1     2              1  21/06/2020        97          2   \n",
              "\n",
              "   idade  gravidez  diabetes  ...  asma  imunossuprimido  hipertensao  \\\n",
              "0     65         2         2  ...     2                2            1   \n",
              "1     72        97         2  ...     2                2            1   \n",
              "2     55        97         1  ...     2                2            2   \n",
              "3     53         2         2  ...     2                2            2   \n",
              "4     68        97         1  ...     2                2            1   \n",
              "\n",
              "   outras_doencas  doenca_cardiovascular  obesidade  doenca_renal_cronica  \\\n",
              "0               2                      2          2                     2   \n",
              "1               2                      2          1                     1   \n",
              "2               2                      2          2                     2   \n",
              "3               2                      2          2                     2   \n",
              "4               2                      2          2                     2   \n",
              "\n",
              "   fumante  teste_covid  uti  \n",
              "0        2            3   97  \n",
              "1        2            5   97  \n",
              "2        2            3    2  \n",
              "3        2            7   97  \n",
              "4        2            3   97  \n",
              "\n",
              "[5 rows x 21 columns]"
            ]
          },
          "metadata": {},
          "output_type": "display_data"
        },
        {
          "data": {
            "text/html": [
              "<div>\n",
              "<style scoped>\n",
              "    .dataframe tbody tr th:only-of-type {\n",
              "        vertical-align: middle;\n",
              "    }\n",
              "\n",
              "    .dataframe tbody tr th {\n",
              "        vertical-align: top;\n",
              "    }\n",
              "\n",
              "    .dataframe thead th {\n",
              "        text-align: right;\n",
              "    }\n",
              "</style>\n",
              "<table border=\"1\" class=\"dataframe\">\n",
              "  <thead>\n",
              "    <tr style=\"text-align: right;\">\n",
              "      <th></th>\n",
              "      <th>usmr</th>\n",
              "      <th>unidade_medica</th>\n",
              "      <th>sexo</th>\n",
              "      <th>tipo_paciente</th>\n",
              "      <th>data_obito</th>\n",
              "      <th>intubado</th>\n",
              "      <th>pneumonia</th>\n",
              "      <th>idade</th>\n",
              "      <th>gravidez</th>\n",
              "      <th>diabetes</th>\n",
              "      <th>...</th>\n",
              "      <th>imunossuprimido</th>\n",
              "      <th>hipertensao</th>\n",
              "      <th>outras_doencas</th>\n",
              "      <th>doenca_cardiovascular</th>\n",
              "      <th>obesidade</th>\n",
              "      <th>doenca_renal_cronica</th>\n",
              "      <th>fumante</th>\n",
              "      <th>teste_covid</th>\n",
              "      <th>uti</th>\n",
              "      <th>id_paciente</th>\n",
              "    </tr>\n",
              "  </thead>\n",
              "  <tbody>\n",
              "    <tr>\n",
              "      <th>0</th>\n",
              "      <td>2</td>\n",
              "      <td>1</td>\n",
              "      <td>Mulher</td>\n",
              "      <td>Retornou para casa</td>\n",
              "      <td>2020-05-03</td>\n",
              "      <td>Não registrado</td>\n",
              "      <td>Sim</td>\n",
              "      <td>65</td>\n",
              "      <td>Não</td>\n",
              "      <td>Não</td>\n",
              "      <td>...</td>\n",
              "      <td>Não</td>\n",
              "      <td>Sim</td>\n",
              "      <td>Não</td>\n",
              "      <td>Não</td>\n",
              "      <td>Não</td>\n",
              "      <td>Não</td>\n",
              "      <td>Não</td>\n",
              "      <td>Paciente diagnosticado</td>\n",
              "      <td>Não registrado</td>\n",
              "      <td>0_Mulher</td>\n",
              "    </tr>\n",
              "    <tr>\n",
              "      <th>1</th>\n",
              "      <td>2</td>\n",
              "      <td>1</td>\n",
              "      <td>Homem</td>\n",
              "      <td>Retornou para casa</td>\n",
              "      <td>2020-06-03</td>\n",
              "      <td>Não registrado</td>\n",
              "      <td>Sim</td>\n",
              "      <td>72</td>\n",
              "      <td>Não registrado</td>\n",
              "      <td>Não</td>\n",
              "      <td>...</td>\n",
              "      <td>Não</td>\n",
              "      <td>Sim</td>\n",
              "      <td>Não</td>\n",
              "      <td>Não</td>\n",
              "      <td>Sim</td>\n",
              "      <td>Sim</td>\n",
              "      <td>Não</td>\n",
              "      <td>Não contaminado/Teste inconclusivo</td>\n",
              "      <td>Não registrado</td>\n",
              "      <td>1_Homem</td>\n",
              "    </tr>\n",
              "    <tr>\n",
              "      <th>2</th>\n",
              "      <td>2</td>\n",
              "      <td>1</td>\n",
              "      <td>Homem</td>\n",
              "      <td>Hospitalizado</td>\n",
              "      <td>2020-06-09</td>\n",
              "      <td>Sim</td>\n",
              "      <td>Não</td>\n",
              "      <td>55</td>\n",
              "      <td>Não registrado</td>\n",
              "      <td>Sim</td>\n",
              "      <td>...</td>\n",
              "      <td>Não</td>\n",
              "      <td>Não</td>\n",
              "      <td>Não</td>\n",
              "      <td>Não</td>\n",
              "      <td>Não</td>\n",
              "      <td>Não</td>\n",
              "      <td>Não</td>\n",
              "      <td>Paciente diagnosticado</td>\n",
              "      <td>Não</td>\n",
              "      <td>2_Homem</td>\n",
              "    </tr>\n",
              "    <tr>\n",
              "      <th>3</th>\n",
              "      <td>2</td>\n",
              "      <td>1</td>\n",
              "      <td>Mulher</td>\n",
              "      <td>Retornou para casa</td>\n",
              "      <td>2020-06-12</td>\n",
              "      <td>Não registrado</td>\n",
              "      <td>Não</td>\n",
              "      <td>53</td>\n",
              "      <td>Não</td>\n",
              "      <td>Não</td>\n",
              "      <td>...</td>\n",
              "      <td>Não</td>\n",
              "      <td>Não</td>\n",
              "      <td>Não</td>\n",
              "      <td>Não</td>\n",
              "      <td>Não</td>\n",
              "      <td>Não</td>\n",
              "      <td>Não</td>\n",
              "      <td>Não contaminado/Teste inconclusivo</td>\n",
              "      <td>Não registrado</td>\n",
              "      <td>3_Mulher</td>\n",
              "    </tr>\n",
              "    <tr>\n",
              "      <th>4</th>\n",
              "      <td>2</td>\n",
              "      <td>1</td>\n",
              "      <td>Homem</td>\n",
              "      <td>Retornou para casa</td>\n",
              "      <td>2020-06-21</td>\n",
              "      <td>Não registrado</td>\n",
              "      <td>Não</td>\n",
              "      <td>68</td>\n",
              "      <td>Não registrado</td>\n",
              "      <td>Sim</td>\n",
              "      <td>...</td>\n",
              "      <td>Não</td>\n",
              "      <td>Sim</td>\n",
              "      <td>Não</td>\n",
              "      <td>Não</td>\n",
              "      <td>Não</td>\n",
              "      <td>Não</td>\n",
              "      <td>Não</td>\n",
              "      <td>Paciente diagnosticado</td>\n",
              "      <td>Não registrado</td>\n",
              "      <td>4_Homem</td>\n",
              "    </tr>\n",
              "  </tbody>\n",
              "</table>\n",
              "<p>5 rows × 22 columns</p>\n",
              "</div>"
            ],
            "text/plain": [
              "   usmr  unidade_medica    sexo       tipo_paciente data_obito  \\\n",
              "0     2               1  Mulher  Retornou para casa 2020-05-03   \n",
              "1     2               1   Homem  Retornou para casa 2020-06-03   \n",
              "2     2               1   Homem       Hospitalizado 2020-06-09   \n",
              "3     2               1  Mulher  Retornou para casa 2020-06-12   \n",
              "4     2               1   Homem  Retornou para casa 2020-06-21   \n",
              "\n",
              "         intubado pneumonia  idade        gravidez diabetes  ...  \\\n",
              "0  Não registrado       Sim     65             Não      Não  ...   \n",
              "1  Não registrado       Sim     72  Não registrado      Não  ...   \n",
              "2             Sim       Não     55  Não registrado      Sim  ...   \n",
              "3  Não registrado       Não     53             Não      Não  ...   \n",
              "4  Não registrado       Não     68  Não registrado      Sim  ...   \n",
              "\n",
              "  imunossuprimido hipertensao outras_doencas doenca_cardiovascular obesidade  \\\n",
              "0             Não         Sim            Não                   Não       Não   \n",
              "1             Não         Sim            Não                   Não       Sim   \n",
              "2             Não         Não            Não                   Não       Não   \n",
              "3             Não         Não            Não                   Não       Não   \n",
              "4             Não         Sim            Não                   Não       Não   \n",
              "\n",
              "  doenca_renal_cronica fumante                         teste_covid  \\\n",
              "0                  Não     Não              Paciente diagnosticado   \n",
              "1                  Sim     Não  Não contaminado/Teste inconclusivo   \n",
              "2                  Não     Não              Paciente diagnosticado   \n",
              "3                  Não     Não  Não contaminado/Teste inconclusivo   \n",
              "4                  Não     Não              Paciente diagnosticado   \n",
              "\n",
              "              uti id_paciente  \n",
              "0  Não registrado    0_Mulher  \n",
              "1  Não registrado     1_Homem  \n",
              "2             Não     2_Homem  \n",
              "3  Não registrado    3_Mulher  \n",
              "4  Não registrado     4_Homem  \n",
              "\n",
              "[5 rows x 22 columns]"
            ]
          },
          "metadata": {},
          "output_type": "display_data"
        },
        {
          "name": "stdout",
          "output_type": "stream",
          "text": [
            "<class 'pandas.core.frame.DataFrame'>\n",
            "RangeIndex: 1048575 entries, 0 to 1048574\n",
            "Data columns (total 22 columns):\n",
            " #   Column                      Non-Null Count    Dtype         \n",
            "---  ------                      --------------    -----         \n",
            " 0   usmr                        1048575 non-null  int64         \n",
            " 1   unidade_medica              1048575 non-null  int64         \n",
            " 2   sexo                        1048575 non-null  object        \n",
            " 3   tipo_paciente               1048575 non-null  object        \n",
            " 4   data_obito                  1048575 non-null  datetime64[ns]\n",
            " 5   intubado                    1048575 non-null  object        \n",
            " 6   pneumonia                   1048575 non-null  object        \n",
            " 7   idade                       1048575 non-null  int64         \n",
            " 8   gravidez                    1048575 non-null  object        \n",
            " 9   diabetes                    1048575 non-null  object        \n",
            " 10  doenca_pulmonar_obstrutiva  1048575 non-null  object        \n",
            " 11  asma                        1048575 non-null  object        \n",
            " 12  imunossuprimido             1048575 non-null  object        \n",
            " 13  hipertensao                 1048575 non-null  object        \n",
            " 14  outras_doencas              1048575 non-null  object        \n",
            " 15  doenca_cardiovascular       1048575 non-null  object        \n",
            " 16  obesidade                   1048575 non-null  object        \n",
            " 17  doenca_renal_cronica        1048575 non-null  object        \n",
            " 18  fumante                     1048575 non-null  object        \n",
            " 19  teste_covid                 1048575 non-null  object        \n",
            " 20  uti                         1048575 non-null  object        \n",
            " 21  id_paciente                 1048575 non-null  object        \n",
            "dtypes: datetime64[ns](1), int64(3), object(18)\n",
            "memory usage: 176.0+ MB\n"
          ]
        },
        {
          "data": {
            "text/plain": [
              "None"
            ]
          },
          "metadata": {},
          "output_type": "display_data"
        }
      ],
      "source": [
        "# Renomeando colunas\n",
        "nomes = {\n",
        "    'USMER': 'usmr',\n",
        "    'MEDICAL_UNIT': 'unidade_medica',\n",
        "    'SEX': 'sexo',\n",
        "    'PATIENT_TYPE': 'tipo_paciente',\n",
        "    'DATE_DIED': 'data_obito',\n",
        "    'INTUBED': 'intubado',\n",
        "    'PNEUMONIA': 'pneumonia',\n",
        "    'AGE': 'idade',\n",
        "    'PREGNANT': 'gravidez',\n",
        "    'DIABETES': 'diabetes',\n",
        "    'COPD': 'doenca_pulmonar_obstrutiva',\n",
        "    'ASTHMA': 'asma',\n",
        "    'INMSUPR': 'imunossuprimido',\n",
        "    'HIPERTENSION': 'hipertensao',\n",
        "    'OTHER_DISEASE': 'outras_doencas',\n",
        "    'CARDIOVASCULAR': 'doenca_cardiovascular',\n",
        "    'OBESITY': 'obesidade',\n",
        "    'RENAL_CHRONIC': 'doenca_renal_cronica',\n",
        "    'TOBACCO': 'fumante',\n",
        "    'CLASIFFICATION_FINAL': 'teste_covid',\n",
        "    'ICU':'uti'\n",
        "}\n",
        "\n",
        "df = df.rename(columns=nomes)\n",
        "\n",
        "display(df.head(5))\n",
        "\n",
        "\n",
        "# Renomeando categorias\n",
        "categoria_bool = {\n",
        "    1: 'Sim',\n",
        "    2: 'Não',\n",
        "    97: 'Não registrado',\n",
        "    98: 'Não registrado',\n",
        "    99: 'Não registrado'\n",
        "}\n",
        "\n",
        "categoria_sexo = {\n",
        "    1: 'Mulher',\n",
        "    2: 'Homem'\n",
        "}\n",
        "\n",
        "categoria_paciente = {\n",
        "    1: 'Retornou para casa',\n",
        "    2: 'Hospitalizado'\n",
        "}\n",
        "\n",
        "categoria_teste_covid = {\n",
        "    1: 'Paciente diagnosticado',\n",
        "    2: 'Paciente diagnosticado',\n",
        "    3: 'Paciente diagnosticado',\n",
        "    4: 'Não contaminado/Teste inconclusivo',\n",
        "    5: 'Não contaminado/Teste inconclusivo',\n",
        "    6: 'Não contaminado/Teste inconclusivo',\n",
        "    7: 'Não contaminado/Teste inconclusivo'\n",
        "}\n",
        "\n",
        "datas = {\n",
        "    '9999-99-99': '01/01/1900' # Substitui o padrão de data de não óbito por um modelo que facilita a correção de tipagem\n",
        "}\n",
        "\n",
        "bool_cols = ['intubado', 'pneumonia',\n",
        "             'gravidez', 'diabetes',\n",
        "             'doenca_pulmonar_obstrutiva',\n",
        "             'asma', 'imunossuprimido',\n",
        "             'hipertensao','outras_doencas',\n",
        "             'doenca_cardiovascular',\n",
        "             'obesidade','doenca_renal_cronica',\n",
        "             'fumante', 'uti']\n",
        "\n",
        "df[bool_cols] = df[bool_cols].replace(categoria_bool)\n",
        "df['sexo'] = df['sexo'].replace(categoria_sexo)\n",
        "df['tipo_paciente'] = df['tipo_paciente'].replace(categoria_paciente)\n",
        "df['teste_covid'] = df['teste_covid'].replace(categoria_teste_covid)\n",
        "df['data_obito'] = df['data_obito'].replace(datas)\n",
        "\n",
        "\n",
        "# Tipagem de dados\n",
        "df['data_obito'] = pd.to_datetime(df['data_obito'], format='%d/%m/%Y')\n",
        "\n",
        "# Criando uma coluna de ID\n",
        "df['id_paciente'] = df.index.astype(str) + '_' + df['sexo']\n",
        "\n",
        "\n",
        "display(df.head(5))\n",
        "display(df.info())"
      ]
    },
    {
      "cell_type": "markdown",
      "metadata": {
        "id": "-1BULFDLz0K0"
      },
      "source": [
        "Nosso dataframe agora possui 22 coluna traduzidas, nomes de categorias adaptadas e não requer correção na tipagem dos dados.<br>\n",
        "Temos pouco mais de 1 milhão de registros reais sobre pacientes, mantida a identificação de cada um."
      ]
    },
    {
      "cell_type": "markdown",
      "metadata": {
        "id": "cWLqPN1az0K0"
      },
      "source": [
        "\n",
        "# **Integridade dos dados**\n"
      ]
    },
    {
      "cell_type": "markdown",
      "metadata": {
        "id": "jw5qGudNz0K0"
      },
      "source": [
        "#### Todos as ocorrências \"Não registrado\" na coluna intubado e uti se referem a pacientes que retornaram para casa?"
      ]
    },
    {
      "cell_type": "code",
      "execution_count": 72,
      "metadata": {
        "colab": {
          "base_uri": "https://localhost:8080/"
        },
        "id": "51SSMx2bz0K1",
        "outputId": "d8ee22a2-b1d1-453f-a36e-3b1cc38200bf"
      },
      "outputs": [
        {
          "name": "stdout",
          "output_type": "stream",
          "text": [
            "--- tipo_paciente ---\n",
            "tipo_paciente\n",
            "Retornou para casa    848544\n",
            "Name: count, dtype: int64\n",
            "-----------------------------\n",
            "--- intubado ---\n",
            "intubado\n",
            "Não registrado    848544\n",
            "Name: count, dtype: int64\n",
            "-----------------------------\n",
            "--- uti ---\n",
            "uti\n",
            "Não registrado    848544\n",
            "Name: count, dtype: int64\n",
            "-----------------------------\n"
          ]
        }
      ],
      "source": [
        "mascara_retorno_casa = df['tipo_paciente'] == 'Retornou para casa'\n",
        "\n",
        "for coluna in ['tipo_paciente', 'intubado', 'uti']:\n",
        "    print('---', coluna, '---')\n",
        "    print(df[mascara_retorno_casa][coluna].value_counts())\n",
        "    print('-----------------------------')"
      ]
    },
    {
      "cell_type": "markdown",
      "metadata": {
        "id": "9aas48F5z0K1"
      },
      "source": [
        "Filtrando apenas pelos pacientes que retornaram para casa, vemos que sobraram apenas ocorrências \"Não registrado\" nas colunas intubado e uti.<br>\n",
        "Para aumentar nossa integridade de dados, vamos substituir essas ocorrências por \"Paciente não hospitalizado\"."
      ]
    },
    {
      "cell_type": "code",
      "execution_count": 73,
      "metadata": {
        "colab": {
          "base_uri": "https://localhost:8080/"
        },
        "id": "M-29NDsHz0K2",
        "outputId": "8f1df986-ca05-415b-a662-d0f18ecb1e9b"
      },
      "outputs": [
        {
          "name": "stdout",
          "output_type": "stream",
          "text": [
            "--- tipo_paciente ---\n",
            "tipo_paciente\n",
            "Retornou para casa    848544\n",
            "Hospitalizado         200031\n",
            "Name: count, dtype: int64\n",
            "-----------------------------\n",
            "--- intubado ---\n",
            "intubado\n",
            "Paciente não hospitalizado    848544\n",
            "Não                           159050\n",
            "Sim                            33656\n",
            "Não registrado                  7325\n",
            "Name: count, dtype: int64\n",
            "-----------------------------\n",
            "--- uti ---\n",
            "uti\n",
            "Paciente não hospitalizado    848544\n",
            "Não                           175685\n",
            "Sim                            16858\n",
            "Não registrado                  7488\n",
            "Name: count, dtype: int64\n",
            "-----------------------------\n"
          ]
        }
      ],
      "source": [
        "substituir_retorno_casa = {\n",
        "    'Não registrado':'Paciente não hospitalizado'\n",
        "}\n",
        "\n",
        "df.loc[mascara_retorno_casa, ['intubado', 'uti']] = df.loc[mascara_retorno_casa, ['intubado', 'uti']].replace(substituir_retorno_casa)\n",
        "\n",
        "for coluna in ['tipo_paciente', 'intubado', 'uti']:\n",
        "    print('---', coluna, '---')\n",
        "    print(df[coluna].value_counts())\n",
        "    print('-----------------------------')"
      ]
    },
    {
      "cell_type": "markdown",
      "metadata": {
        "id": "vkJGFLjIz0K2"
      },
      "source": [
        "#### Há homens com registro de gravidez?"
      ]
    },
    {
      "cell_type": "code",
      "execution_count": 74,
      "metadata": {
        "colab": {
          "base_uri": "https://localhost:8080/"
        },
        "id": "JhYJXyv8z0K2",
        "outputId": "09772e81-5556-4078-c76d-4db060ea196c"
      },
      "outputs": [
        {
          "name": "stdout",
          "output_type": "stream",
          "text": [
            "Homens com registro de gravidez: 0\n"
          ]
        }
      ],
      "source": [
        "mascara_gravidez_h = (df['sexo'] == 'Homem') & ((df['gravidez'] == 'Sim') | (df['gravidez'] == 'Não'))\n",
        "print(f'Homens com registro de gravidez: {df[mascara_gravidez_h].shape[0]}')"
      ]
    },
    {
      "cell_type": "markdown",
      "metadata": {
        "id": "kQTXpPl-z0K3"
      },
      "source": [
        "#### Os \"não registrado\" em gravidez são todos homens?"
      ]
    },
    {
      "cell_type": "code",
      "execution_count": 75,
      "metadata": {
        "colab": {
          "base_uri": "https://localhost:8080/"
        },
        "id": "_Ni69v_Wz0K3",
        "outputId": "c0661e01-e4e4-4c10-9f1c-3dd127764e2c"
      },
      "outputs": [
        {
          "data": {
            "text/plain": [
              "sexo\n",
              "Homem     523511\n",
              "Mulher      3754\n",
              "Name: count, dtype: int64"
            ]
          },
          "execution_count": 75,
          "metadata": {},
          "output_type": "execute_result"
        }
      ],
      "source": [
        "mascara_grav_n_reg = df['gravidez'] == 'Não registrado'\n",
        "df[mascara_grav_n_reg]['sexo'].value_counts()"
      ]
    },
    {
      "cell_type": "markdown",
      "metadata": {
        "id": "YCKivC8oz0K3"
      },
      "source": [
        "Há algumas mulheres, mas a maior parte dos \"Não registrado\" em gravidez são homens. Vamos substituir esses casos por \"Paciente sexo masculino\"."
      ]
    },
    {
      "cell_type": "code",
      "execution_count": 76,
      "metadata": {
        "colab": {
          "base_uri": "https://localhost:8080/"
        },
        "id": "VfanUvp7z0K3",
        "outputId": "9ec046bb-d1ba-46b2-cc59-884c5c6ead4e"
      },
      "outputs": [
        {
          "data": {
            "text/plain": [
              "gravidez\n",
              "Paciente sexo masculino    523511\n",
              "Name: count, dtype: int64"
            ]
          },
          "execution_count": 76,
          "metadata": {},
          "output_type": "execute_result"
        }
      ],
      "source": [
        "substituir_gravidez_homem = {\n",
        "    'Não registrado': 'Paciente sexo masculino'\n",
        "}\n",
        "\n",
        "mascara_grav_n_reg_h = (df['gravidez'] == 'Não registrado') & (df['sexo'] == 'Homem')\n",
        "df.loc[mascara_grav_n_reg_h, 'gravidez'] = df.loc[mascara_grav_n_reg_h, 'gravidez'].replace(substituir_gravidez_homem)\n",
        "\n",
        "df['gravidez'][df['sexo'] == 'Homem'].value_counts()"
      ]
    },
    {
      "cell_type": "markdown",
      "metadata": {
        "id": "kanMnWZGz0K4"
      },
      "source": [
        "# **Respondendo às nossas perguntas**"
      ]
    },
    {
      "cell_type": "markdown",
      "metadata": {
        "id": "o7KkHP3Uz0K4"
      },
      "source": [
        "### **a. Como deu-se a evolução dos óbitos? Foi linear ou tivemos períodos de picos e controles?**"
      ]
    },
    {
      "cell_type": "code",
      "execution_count": 77,
      "metadata": {
        "colab": {
          "base_uri": "https://localhost:8080/",
          "height": 614
        },
        "id": "R1ZqIEmmz0K4",
        "outputId": "feb83b67-65c9-4fe6-bee2-140356d4c76d"
      },
      "outputs": [
        {
          "data": {
            "text/html": [
              "<div>\n",
              "<style scoped>\n",
              "    .dataframe tbody tr th:only-of-type {\n",
              "        vertical-align: middle;\n",
              "    }\n",
              "\n",
              "    .dataframe tbody tr th {\n",
              "        vertical-align: top;\n",
              "    }\n",
              "\n",
              "    .dataframe thead th {\n",
              "        text-align: right;\n",
              "    }\n",
              "</style>\n",
              "<table border=\"1\" class=\"dataframe\">\n",
              "  <thead>\n",
              "    <tr style=\"text-align: right;\">\n",
              "      <th></th>\n",
              "      <th></th>\n",
              "      <th>id_paciente</th>\n",
              "    </tr>\n",
              "    <tr>\n",
              "      <th>ano_obito</th>\n",
              "      <th>mes_obito</th>\n",
              "      <th></th>\n",
              "    </tr>\n",
              "  </thead>\n",
              "  <tbody>\n",
              "    <tr>\n",
              "      <th rowspan=\"12\" valign=\"top\">2020</th>\n",
              "      <th>1</th>\n",
              "      <td>368</td>\n",
              "    </tr>\n",
              "    <tr>\n",
              "      <th>2</th>\n",
              "      <td>437</td>\n",
              "    </tr>\n",
              "    <tr>\n",
              "      <th>3</th>\n",
              "      <td>552</td>\n",
              "    </tr>\n",
              "    <tr>\n",
              "      <th>4</th>\n",
              "      <td>6926</td>\n",
              "    </tr>\n",
              "    <tr>\n",
              "      <th>5</th>\n",
              "      <td>21314</td>\n",
              "    </tr>\n",
              "    <tr>\n",
              "      <th>6</th>\n",
              "      <td>25278</td>\n",
              "    </tr>\n",
              "    <tr>\n",
              "      <th>7</th>\n",
              "      <td>20457</td>\n",
              "    </tr>\n",
              "    <tr>\n",
              "      <th>8</th>\n",
              "      <td>1134</td>\n",
              "    </tr>\n",
              "    <tr>\n",
              "      <th>9</th>\n",
              "      <td>91</td>\n",
              "    </tr>\n",
              "    <tr>\n",
              "      <th>10</th>\n",
              "      <td>27</td>\n",
              "    </tr>\n",
              "    <tr>\n",
              "      <th>11</th>\n",
              "      <td>18</td>\n",
              "    </tr>\n",
              "    <tr>\n",
              "      <th>12</th>\n",
              "      <td>23</td>\n",
              "    </tr>\n",
              "    <tr>\n",
              "      <th rowspan=\"5\" valign=\"top\">2021</th>\n",
              "      <th>1</th>\n",
              "      <td>31</td>\n",
              "    </tr>\n",
              "    <tr>\n",
              "      <th>2</th>\n",
              "      <td>35</td>\n",
              "    </tr>\n",
              "    <tr>\n",
              "      <th>3</th>\n",
              "      <td>32</td>\n",
              "    </tr>\n",
              "    <tr>\n",
              "      <th>4</th>\n",
              "      <td>170</td>\n",
              "    </tr>\n",
              "    <tr>\n",
              "      <th>5</th>\n",
              "      <td>49</td>\n",
              "    </tr>\n",
              "  </tbody>\n",
              "</table>\n",
              "</div>"
            ],
            "text/plain": [
              "                     id_paciente\n",
              "ano_obito mes_obito             \n",
              "2020      1                  368\n",
              "          2                  437\n",
              "          3                  552\n",
              "          4                 6926\n",
              "          5                21314\n",
              "          6                25278\n",
              "          7                20457\n",
              "          8                 1134\n",
              "          9                   91\n",
              "          10                  27\n",
              "          11                  18\n",
              "          12                  23\n",
              "2021      1                   31\n",
              "          2                   35\n",
              "          3                   32\n",
              "          4                  170\n",
              "          5                   49"
            ]
          },
          "execution_count": 77,
          "metadata": {},
          "output_type": "execute_result"
        }
      ],
      "source": [
        "# Cria duas novas colunas para obter o mês e ano dos óbitos\n",
        "df['ano_obito'] = df['data_obito'].dt.year\n",
        "df['mes_obito'] = df['data_obito'].dt.month\n",
        "\n",
        "# Agrupa a soma de óbitos por mês e por ano\n",
        "mask_data = df['data_obito'] != '1900-01-01' # Remove os pacientes que sobreviveram\n",
        "agrupamento_obitos = df[['id_paciente', 'ano_obito', 'mes_obito']][mask_data].groupby(by=['ano_obito', 'mes_obito']).count()\n",
        "agrupamento_obitos"
      ]
    },
    {
      "cell_type": "code",
      "execution_count": 78,
      "metadata": {
        "colab": {
          "base_uri": "https://localhost:8080/",
          "height": 562
        },
        "id": "ojuttGqWz0K4",
        "outputId": "5697237d-98d2-4415-ac33-ab642e766e7a"
      },
      "outputs": [
        {
          "data": {
            "image/png": "[encoded data removed]",
            "text/plain": [
              "<Figure size 1000x500 with 1 Axes>"
            ]
          },
          "metadata": {},
          "output_type": "display_data"
        }
      ],
      "source": [
        "import matplotlib.pyplot as plt\n",
        "\n",
        "# Reseta os índices para garantir a ordem temporal (o gráfico não plota sem isso)\n",
        "agrupamento_obitos = agrupamento_obitos.reset_index()\n",
        "\n",
        "# A função zip agrupa cada posição das colunas ano_obito e mes_obito em um par. Cada ano e mês é inserido em um posição da lista, resultando em uma lista ano-mes\n",
        "periodo = [f\"{ano}-{mes:02d}\" for ano, mes in zip(agrupamento_obitos['ano_obito'], agrupamento_obitos['mes_obito'])]\n",
        "\n",
        "# Gráfico\n",
        "fig, ax = plt.subplots(figsize=(10,5), facecolor='#F1F1F1')\n",
        "\n",
        "ax.bar(x=periodo,\n",
        "       height=agrupamento_obitos['id_paciente'],\n",
        "       color = '#700726',\n",
        "       zorder=2 # zorder determina a ordem em que cada elemento será criado no axes - as barras ficarão na frente das linhas de grade\n",
        ")\n",
        "ax.set_facecolor('#F1F1F1')\n",
        "\n",
        "\n",
        "ax.set_title('Óbitos Registrados\\n', loc='left', fontweight='bold', fontsize=18)\n",
        "ax.text(0,1.03,'Número de óbitos causados pela COVID-19, entre jan/2020 a mai/2021',transform=ax.transAxes)\n",
        "\n",
        "ax.set_xlabel('Período', fontsize=11)\n",
        "ax.set_ylabel('Nº de óbitos', fontsize=11)\n",
        "\n",
        "ax.spines['top'].set_visible(False)\n",
        "ax.spines['left'].set_visible(False)\n",
        "ax.spines['right'].set_visible(False)\n",
        "\n",
        "ax.grid(axis='y',\n",
        "        color='lightgrey',\n",
        "        zorder=1 # Define que a grid será plotada antes das barras\n",
        ")\n",
        "\n",
        "plt.xticks(rotation=45, ha='right')\n",
        "\n",
        "plt.show()"
      ]
    },
    {
      "cell_type": "markdown",
      "metadata": {
        "id": "RJersAjUz0K5"
      },
      "source": [
        "Optamos por utilizar um gráfico de barras, em vez do tradicional gráfico de linhas, para visualizar a série temporal.\n",
        "\n",
        "Pode-se notar que há um início levemente gradual a partir do mês de jan/2020 até março.<br>\n",
        "No mês de abril do mesmo ano, dá-se início ao período da grande quantidade de casos e óbitos, que só se reduz no mês de agosto.<br>\n",
        "Entre set/2020 até mar/2021 têm-se menos registros, que voltam a subir um pouco em abril e maio do mesmo ano.\n"
      ]
    },
    {
      "cell_type": "markdown",
      "metadata": {
        "id": "quAHJbPkz0K5"
      },
      "source": [
        "### **b. Nos períodos com mais óbitos, podemos isolar os pacientes e ver qual predisposição de saúde  foi mais presente?**"
      ]
    },
    {
      "cell_type": "code",
      "execution_count": 79,
      "metadata": {
        "colab": {
          "base_uri": "https://localhost:8080/"
        },
        "id": "IClFeHkFz0K5",
        "outputId": "af68afe5-21ed-4d53-d800-7ae721800690"
      },
      "outputs": [
        {
          "name": "stdout",
          "output_type": "stream",
          "text": [
            "Total de registros no período: 75109\n",
            "Registros remanescentes: 72255\n",
            "\n",
            "\n",
            "--- diabetes ---\n",
            "diabetes\n",
            "Não    45477\n",
            "Sim    26778\n",
            "Name: count, dtype: int64\n",
            "-----------------------------\n",
            "--- doenca_pulmonar_obstrutiva ---\n",
            "doenca_pulmonar_obstrutiva\n",
            "Não    68555\n",
            "Sim     3700\n",
            "Name: count, dtype: int64\n",
            "-----------------------------\n",
            "--- asma ---\n",
            "asma\n",
            "Não    70887\n",
            "Sim     1368\n",
            "Name: count, dtype: int64\n",
            "-----------------------------\n",
            "--- imunossuprimido ---\n",
            "imunossuprimido\n",
            "Não    69867\n",
            "Sim     2388\n",
            "Name: count, dtype: int64\n",
            "-----------------------------\n",
            "--- hipertensao ---\n",
            "hipertensao\n",
            "Não    41895\n",
            "Sim    30360\n",
            "Name: count, dtype: int64\n",
            "-----------------------------\n",
            "--- doenca_cardiovascular ---\n",
            "doenca_cardiovascular\n",
            "Não    68134\n",
            "Sim     4121\n",
            "Name: count, dtype: int64\n",
            "-----------------------------\n",
            "--- obesidade ---\n",
            "obesidade\n",
            "Não    56032\n",
            "Sim    16223\n",
            "Name: count, dtype: int64\n",
            "-----------------------------\n",
            "--- doenca_renal_cronica ---\n",
            "doenca_renal_cronica\n",
            "Não    66895\n",
            "Sim     5360\n",
            "Name: count, dtype: int64\n",
            "-----------------------------\n",
            "--- fumante ---\n",
            "fumante\n",
            "Não    66048\n",
            "Sim     6207\n",
            "Name: count, dtype: int64\n",
            "-----------------------------\n"
          ]
        }
      ],
      "source": [
        "# Cria um novo dataframe compreendendo apenas os registros entre o período com mais óbitos pela COVID-19\n",
        "mascara_periodo_obitos = (df['data_obito'] >= '2020-04-01') & (df['data_obito'] <= '2020-08-31')\n",
        "df_obitos = df[mascara_periodo_obitos].copy()\n",
        "print(f'Total de registros no período: {df_obitos.shape[0]}')\n",
        "\n",
        "# Remove as linhas que contém \"Não registrado\" em qualquer coluna\n",
        "mascara_nao_registrado = (df_obitos == 'Não registrado').any(axis=1)\n",
        "index_nao_registrado = df_obitos[mascara_nao_registrado].index\n",
        "df_obitos = df_obitos.drop(index_nao_registrado)\n",
        "print(f'Registros remanescentes: {df_obitos.shape[0]}')\n",
        "\n",
        "print('\\n')\n",
        "\n",
        "for coluna in ['diabetes','doenca_pulmonar_obstrutiva','asma','imunossuprimido','hipertensao','doenca_cardiovascular','obesidade','doenca_renal_cronica','fumante']:\n",
        "    print('---', coluna, '---')\n",
        "    print(df_obitos[coluna].value_counts())\n",
        "    print('-----------------------------')\n"
      ]
    },
    {
      "cell_type": "markdown",
      "metadata": {
        "id": "czgBcxBez0K5"
      },
      "source": [
        "Com remoção dos dados não registrados, podemos destacar que diabetes, hipertensão e obesidade estavam entre as doenças mais presentes nos pacientes que morreram."
      ]
    },
    {
      "cell_type": "markdown",
      "metadata": {
        "id": "HRBwbt8zz0K6"
      },
      "source": [
        "### **c. Qual o percentual de pacientes não hospitalizados que faleceu?**"
      ]
    },
    {
      "cell_type": "code",
      "execution_count": 80,
      "metadata": {
        "colab": {
          "base_uri": "https://localhost:8080/",
          "height": 710
        },
        "id": "iFP91Gjv8IJN",
        "outputId": "20030053-f61f-47d1-8028-56fb2420ba6e"
      },
      "outputs": [
        {
          "data": {
            "text/html": [
              "<div>\n",
              "<style scoped>\n",
              "    .dataframe tbody tr th:only-of-type {\n",
              "        vertical-align: middle;\n",
              "    }\n",
              "\n",
              "    .dataframe tbody tr th {\n",
              "        vertical-align: top;\n",
              "    }\n",
              "\n",
              "    .dataframe thead th {\n",
              "        text-align: right;\n",
              "    }\n",
              "</style>\n",
              "<table border=\"1\" class=\"dataframe\">\n",
              "  <thead>\n",
              "    <tr style=\"text-align: right;\">\n",
              "      <th></th>\n",
              "      <th>id_paciente</th>\n",
              "    </tr>\n",
              "    <tr>\n",
              "      <th>condicao_paciente</th>\n",
              "      <th></th>\n",
              "    </tr>\n",
              "  </thead>\n",
              "  <tbody>\n",
              "    <tr>\n",
              "      <th>Sobreviveu</th>\n",
              "      <td>841668</td>\n",
              "    </tr>\n",
              "    <tr>\n",
              "      <th>Óbito</th>\n",
              "      <td>6876</td>\n",
              "    </tr>\n",
              "  </tbody>\n",
              "</table>\n",
              "</div>"
            ],
            "text/plain": [
              "                   id_paciente\n",
              "condicao_paciente             \n",
              "Sobreviveu              841668\n",
              "Óbito                     6876"
            ]
          },
          "metadata": {},
          "output_type": "display_data"
        },
        {
          "name": "stderr",
          "output_type": "stream",
          "text": [
            "C:\\Users\\lucas\\AppData\\Local\\Temp\\ipykernel_28860\\3053008649.py:10: FutureWarning: Series.__getitem__ treating keys as positions is deprecated. In a future version, integer keys will always be treated as labels (consistent with DataFrame behavior). To access a value by position, use `ser.iloc[pos]`\n",
            "  percent_sobr = sobreviveu/agr_nao_hospitalizado.sum()[0]*100\n",
            "C:\\Users\\lucas\\AppData\\Local\\Temp\\ipykernel_28860\\3053008649.py:12: FutureWarning: Series.__getitem__ treating keys as positions is deprecated. In a future version, integer keys will always be treated as labels (consistent with DataFrame behavior). To access a value by position, use `ser.iloc[pos]`\n",
            "  percent_obt = obito/agr_nao_hospitalizado.sum()[0]*100\n"
          ]
        },
        {
          "data": {
            "image/png": "[encoded data removed]",
            "text/plain": [
              "<Figure size 700x700 with 1 Axes>"
            ]
          },
          "metadata": {},
          "output_type": "display_data"
        }
      ],
      "source": [
        "# Cria uma nova coluna para a condição do paciente\n",
        "import numpy as np\n",
        "df['condicao_paciente'] = np.where(df['data_obito'] == '1900-01-01', 'Sobreviveu', 'Óbito')\n",
        "\n",
        "# Contabiliza quantos pacientes sobreviveram ou faleceram, considerando apenas os não hospitalizados\n",
        "agr_nao_hospitalizado = df[mascara_retorno_casa][['condicao_paciente', 'id_paciente']].groupby(by='condicao_paciente').count()\n",
        "display(agr_nao_hospitalizado)\n",
        "\n",
        "sobreviveu = agr_nao_hospitalizado.iloc[0,0]\n",
        "percent_sobr = sobreviveu/agr_nao_hospitalizado.sum()[0]*100\n",
        "obito = agr_nao_hospitalizado.iloc[1,0]\n",
        "percent_obt = obito/agr_nao_hospitalizado.sum()[0]*100\n",
        "\n",
        "# Gráfico \n",
        "fig, ax = plt.subplots(figsize=(7,7), facecolor='#F1F1F1')\n",
        "ax.pie(\n",
        "    agr_nao_hospitalizado['id_paciente'],\n",
        "    labels=agr_nao_hospitalizado.index,\n",
        "    colors=['#ADD8E6', '#700726']\n",
        ")\n",
        "\n",
        "ax.text(-1.49,1.2,'Pacientes não hospitalizados', fontsize=18, fontweight='bold')\n",
        "ax.text(-0.095,0.94,'Percentual de pacientes não hospitalizados que sobreviveram ou faleceram, devido à COVID-19.',transform=ax.transAxes)\n",
        "ax.text(0.91,0.44,f'{obito} - {round(percent_obt,2)}%',transform=ax.transAxes)\n",
        "ax.text(-0.13,0.465,f'{sobreviveu} - {round(percent_sobr,2)}%',transform=ax.transAxes)\n",
        "\n",
        "plt.show()"
      ]
    },
    {
      "cell_type": "markdown",
      "metadata": {
        "id": "vV4_xhQcf8xb"
      },
      "source": [
        "Vemos que uma quantidade muita baixa de pessoas não hospitalizadas faleceram devido à doença - 6.879 - pouco menos de 1% das 848.544 totais."
      ]
    },
    {
      "cell_type": "markdown",
      "metadata": {
        "id": "SxqO01O1z0K7"
      },
      "source": [
        "### **d. Nos períodos de maior número de óbitos, há muitos pacientes não hospitalizados?**"
      ]
    },
    {
      "cell_type": "code",
      "execution_count": 81,
      "metadata": {
        "colab": {
          "base_uri": "https://localhost:8080/",
          "height": 521
        },
        "id": "srPTuEqVz0K7",
        "outputId": "aa55d3b7-ec0d-44ff-cd1d-cf5f27e0fec9"
      },
      "outputs": [
        {
          "data": {
            "image/png": "[encoded data removed]",
            "text/plain": [
              "<Figure size 1000x500 with 1 Axes>"
            ]
          },
          "metadata": {},
          "output_type": "display_data"
        }
      ],
      "source": [
        "# Contabiliza admissão e não admissão de pacientes durante o período de maior número de óbitos\n",
        "agr_tipo_paciente = df_obitos[['tipo_paciente', 'id_paciente']].groupby(by='tipo_paciente').count()\n",
        "\n",
        "# Gráfico\n",
        "fig, ax = plt.subplots(figsize=(10,5), facecolor='#F1F1F1')\n",
        "\n",
        "grafico_barras = ax.barh(y=agr_tipo_paciente.index, width=agr_tipo_paciente['id_paciente'], color=['#700726', '#009A44'], zorder=2)\n",
        "ax.set_facecolor('#F1F1F1')\n",
        "\n",
        "ax.set_title('Hospitalização de pacientes\\n', loc='left', fontweight='bold', fontsize=18)\n",
        "ax.text(0,1.035,'Admissão de pacientes entre 01/04/2020 a 31/08/2020 - período de maior registro de óbitos.',transform=ax.transAxes)\n",
        "ax.text(0,0.98, 'Em torno de 9% dos pacientes no período foram hospitalizados.', fontsize=9, color='grey', transform=ax.transAxes)\n",
        "\n",
        "ax.spines['top'].set_visible(False)\n",
        "ax.spines['bottom'].set_visible(False)\n",
        "ax.spines['left'].set_visible(False)\n",
        "ax.spines['right'].set_visible(False)\n",
        "\n",
        "ax.get_xaxis().set_visible(False)\n",
        "\n",
        "ax.grid(axis='x', color='lightgrey', zorder=1)\n",
        "\n",
        "# Insere labels com as quantidades nas bordas das barras\n",
        "for barra in grafico_barras:\n",
        "    ax.text(barra.get_width(), barra.get_y() + barra.get_height()/2, f'{int(barra.get_width())}', ha='left', va='center', fontsize=12, fontweight='bold')\n",
        "\n",
        "plt.show()"
      ]
    }
  ],
  "metadata": {
    "colab": {
      "provenance": []
    },
    "kernelspec": {
      "display_name": "Python 3",
      "language": "python",
      "name": "python3"
    },
    "language_info": {
      "codemirror_mode": {
        "name": "ipython",
        "version": 3
      },
      "file_extension": ".py",
      "mimetype": "text/x-python",
      "name": "python",
      "nbconvert_exporter": "python",
      "pygments_lexer": "ipython3",
      "version": "3.11.5"
    }
  },
  "nbformat": 4,
  "nbformat_minor": 0
}
